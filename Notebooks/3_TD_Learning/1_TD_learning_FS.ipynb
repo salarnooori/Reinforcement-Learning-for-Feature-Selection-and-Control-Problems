{
 "cells": [
  {
   "cell_type": "markdown",
   "metadata": {},
   "source": [
    "## Import Libraries"
   ]
  },
  {
   "cell_type": "code",
   "execution_count": 15,
   "metadata": {},
   "outputs": [],
   "source": [
    "import numpy as np\n",
    "import pandas as pd\n",
    "import time\n",
    "import torch\n",
    "import torch.nn as nn\n",
    "import torch.optim as optim\n",
    "from sklearn.svm import SVC\n",
    "from sklearn.model_selection import train_test_split, cross_val_score\n",
    "from sklearn.datasets import load_breast_cancer\n",
    "from sklearn.preprocessing import StandardScaler\n",
    "from sklearn.pipeline import make_pipeline\n",
    "from sklearn.feature_selection import SequentialFeatureSelector"
   ]
  },
  {
   "cell_type": "markdown",
   "metadata": {},
   "source": [
    "## Load and Split the Dataset"
   ]
  },
  {
   "cell_type": "code",
   "execution_count": 16,
   "metadata": {},
   "outputs": [],
   "source": [
    "# Load the Breast Cancer dataset\n",
    "data = load_breast_cancer()\n",
    "X, y = data.data, data.target"
   ]
  },
  {
   "cell_type": "code",
   "execution_count": 17,
   "metadata": {},
   "outputs": [],
   "source": [
    "# Split the data into training and testing sets\n",
    "X_train, X_test, y_train, y_test = train_test_split(X, y, test_size=0.2, random_state=42)"
   ]
  },
  {
   "cell_type": "markdown",
   "metadata": {},
   "source": [
    "## Implement TD-learning for Feature Selection using PyTorch"
   ]
  },
  {
   "cell_type": "code",
   "execution_count": 18,
   "metadata": {},
   "outputs": [],
   "source": [
    "class FeatureSelectionEnv:\n",
    "    def __init__(self, X, y):\n",
    "        self.X = X\n",
    "        self.y = y\n",
    "        self.n_features = X.shape[1]\n",
    "        self.state = [0] * self.n_features  # Start with no features selected\n",
    "        self.selected_features = []\n",
    "        self.classifier = make_pipeline(StandardScaler(), SVC(kernel='rbf'))\n",
    "    \n",
    "    def reset(self):\n",
    "        self.state = [0] * self.n_features\n",
    "        self.selected_features = []\n",
    "        return self.state\n",
    "    \n",
    "    def step(self, action):\n",
    "        if action < 0 or action >= self.n_features:\n",
    "            raise ValueError(\"Invalid action\")\n",
    "        \n",
    "        self.state[action] = 1 - self.state[action]  # Toggle feature selection\n",
    "        self.selected_features = [i for i, val in enumerate(self.state) if val == 1]\n",
    "        \n",
    "        if len(self.selected_features) == 0:\n",
    "            reward = 0\n",
    "        else:\n",
    "            X_selected = self.X[:, self.selected_features]\n",
    "            scores = cross_val_score(self.classifier, X_selected, self.y, cv=5)\n",
    "            reward = scores.mean()\n",
    "        \n",
    "        return self.state, reward"
   ]
  },
  {
   "cell_type": "code",
   "execution_count": 19,
   "metadata": {},
   "outputs": [],
   "source": [
    "# Initialize the environment\n",
    "env = FeatureSelectionEnv(X_train, y_train)"
   ]
  },
  {
   "cell_type": "code",
   "execution_count": 20,
   "metadata": {},
   "outputs": [],
   "source": [
    "# TD-learning algorithm using PyTorch\n",
    "class TDLearningAgent(nn.Module):\n",
    "    def __init__(self, n_features):\n",
    "        super(TDLearningAgent, self).__init__()\n",
    "        self.fc = nn.Linear(n_features, n_features)\n",
    "    \n",
    "    def forward(self, x):\n",
    "        return self.fc(x)"
   ]
  },
  {
   "cell_type": "code",
   "execution_count": 21,
   "metadata": {},
   "outputs": [],
   "source": [
    "n_features = X_train.shape[1]\n",
    "agent = TDLearningAgent(n_features)\n",
    "optimizer = optim.Adam(agent.parameters(), lr=0.01)\n",
    "criterion = nn.MSELoss()"
   ]
  },
  {
   "cell_type": "code",
   "execution_count": 22,
   "metadata": {},
   "outputs": [],
   "source": [
    "alpha = 0.025\n",
    "gamma = 0.5\n",
    "n_episodes = 5"
   ]
  },
  {
   "cell_type": "code",
   "execution_count": 23,
   "metadata": {},
   "outputs": [],
   "source": [
    "start_time_td = time.time()\n",
    "\n",
    "for episode in range(n_episodes):\n",
    "    state = env.reset()\n",
    "    state_tensor = torch.FloatTensor(state).unsqueeze(0)\n",
    "    for t in range(n_features):\n",
    "        action = np.random.choice(n_features)\n",
    "        next_state, reward = env.step(action)\n",
    "        next_state_tensor = torch.FloatTensor(next_state).unsqueeze(0)\n",
    "        \n",
    "        q_values = agent(state_tensor)\n",
    "        next_q_values = agent(next_state_tensor)\n",
    "        \n",
    "        target = q_values.clone()\n",
    "        target[0, action] = q_values[0, action] + alpha * (reward + gamma * torch.max(next_q_values).item() - q_values[0, action])\n",
    "        \n",
    "        loss = criterion(q_values, target)\n",
    "        optimizer.zero_grad()\n",
    "        loss.backward()\n",
    "        optimizer.step()\n",
    "        \n",
    "        state = next_state\n",
    "        state_tensor = next_state_tensor\n",
    "\n",
    "end_time_td = time.time()"
   ]
  },
  {
   "cell_type": "code",
   "execution_count": 24,
   "metadata": {},
   "outputs": [],
   "source": [
    "# Select features based on the learned Q-values\n",
    "selected_features_td = [i for i, val in enumerate(env.state) if val == 1]"
   ]
  },
  {
   "cell_type": "markdown",
   "metadata": {},
   "source": [
    "## Evaluate the TD-learning Selected Features"
   ]
  },
  {
   "cell_type": "code",
   "execution_count": 25,
   "metadata": {},
   "outputs": [],
   "source": [
    "# Evaluate on training set\n",
    "X_train_selected = X_train[:, selected_features_td]\n",
    "scores_train_td = cross_val_score(env.classifier, X_train_selected, y_train, cv=5)\n",
    "accuracy_train_td = scores_train_td.mean()"
   ]
  },
  {
   "cell_type": "code",
   "execution_count": 26,
   "metadata": {},
   "outputs": [
    {
     "name": "stdout",
     "output_type": "stream",
     "text": [
      "TD-learning - Training Accuracy: 0.9626373626373625\n",
      "TD-learning - Test Accuracy: 0.9739130434782609\n",
      "TD-learning - Running Time: 5.696887254714966 seconds\n"
     ]
    }
   ],
   "source": [
    "# Evaluate on test set\n",
    "X_test_selected = X_test[:, selected_features_td]\n",
    "scores_test_td = cross_val_score(env.classifier, X_test_selected, y_test, cv=5)\n",
    "accuracy_test_td = scores_test_td.mean()\n",
    "\n",
    "print(f\"TD-learning - Training Accuracy: {accuracy_train_td}\")\n",
    "print(f\"TD-learning - Test Accuracy: {accuracy_test_td}\")\n",
    "print(f\"TD-learning - Running Time: {end_time_td - start_time_td} seconds\")"
   ]
  },
  {
   "cell_type": "markdown",
   "metadata": {},
   "source": [
    "## Forward and Backward Feature Selection for Comparison"
   ]
  },
  {
   "cell_type": "code",
   "execution_count": 27,
   "metadata": {},
   "outputs": [],
   "source": [
    "# Forward Feature Selection\n",
    "start_time_forward = time.time()\n",
    "sfs_forward = SequentialFeatureSelector(env.classifier, n_features_to_select=len(selected_features_td), direction='forward', cv=5)\n",
    "sfs_forward.fit(X_train, y_train)\n",
    "end_time_forward = time.time()\n",
    "selected_features_forward = sfs_forward.get_support(indices=True)"
   ]
  },
  {
   "cell_type": "code",
   "execution_count": 28,
   "metadata": {},
   "outputs": [],
   "source": [
    "# Backward Feature Selection\n",
    "start_time_backward = time.time()\n",
    "sfs_backward = SequentialFeatureSelector(env.classifier, n_features_to_select=len(selected_features_td), direction='backward', cv=5)\n",
    "sfs_backward.fit(X_train, y_train)\n",
    "end_time_backward = time.time()\n",
    "selected_features_backward = sfs_backward.get_support(indices=True)"
   ]
  },
  {
   "cell_type": "code",
   "execution_count": 29,
   "metadata": {},
   "outputs": [
    {
     "name": "stdout",
     "output_type": "stream",
     "text": [
      "Forward Selection - Training Accuracy: 0.9802197802197803\n",
      "Forward Selection - Test Accuracy: 0.9739130434782609\n",
      "Forward Selection - Running Time: 9.96624493598938 seconds\n"
     ]
    }
   ],
   "source": [
    "# Evaluate Forward Feature Selection\n",
    "X_train_forward = X_train[:, selected_features_forward]\n",
    "scores_train_forward = cross_val_score(env.classifier, X_train_forward, y_train, cv=5)\n",
    "accuracy_train_forward = scores_train_forward.mean()\n",
    "\n",
    "X_test_forward = X_test[:, selected_features_forward]\n",
    "scores_test_forward = cross_val_score(env.classifier, X_test_forward, y_test, cv=5)\n",
    "accuracy_test_forward = scores_test_forward.mean()\n",
    "\n",
    "print(f\"Forward Selection - Training Accuracy: {accuracy_train_forward}\")\n",
    "print(f\"Forward Selection - Test Accuracy: {accuracy_test_forward}\")\n",
    "print(f\"Forward Selection - Running Time: {end_time_forward - start_time_forward} seconds\")"
   ]
  },
  {
   "cell_type": "code",
   "execution_count": 30,
   "metadata": {},
   "outputs": [
    {
     "name": "stdout",
     "output_type": "stream",
     "text": [
      "Backward Selection - Training Accuracy: 0.9846153846153847\n",
      "Backward Selection - Test Accuracy: 0.9478260869565217\n",
      "Backward Selection - Running Time: 13.678672313690186 seconds\n"
     ]
    }
   ],
   "source": [
    "# Evaluate Backward Feature Selection\n",
    "X_train_backward = X_train[:, selected_features_backward]\n",
    "scores_train_backward = cross_val_score(env.classifier, X_train_backward, y_train, cv=5)\n",
    "accuracy_train_backward = scores_train_backward.mean()\n",
    "\n",
    "X_test_backward = X_test[:, selected_features_backward]\n",
    "scores_test_backward = cross_val_score(env.classifier, X_test_backward, y_test, cv=5)\n",
    "accuracy_test_backward = scores_test_backward.mean()\n",
    "\n",
    "print(f\"Backward Selection - Training Accuracy: {accuracy_train_backward}\")\n",
    "print(f\"Backward Selection - Test Accuracy: {accuracy_test_backward}\")\n",
    "print(f\"Backward Selection - Running Time: {end_time_backward - start_time_backward} seconds\")"
   ]
  },
  {
   "cell_type": "markdown",
   "metadata": {},
   "source": [
    "## Neural Network-based Feature Selection"
   ]
  },
  {
   "cell_type": "code",
   "execution_count": 31,
   "metadata": {},
   "outputs": [],
   "source": [
    "class SimpleNN(nn.Module):\n",
    "    def __init__(self, input_dim):\n",
    "        super(SimpleNN, self).__init__()\n",
    "        self.fc1 = nn.Linear(input_dim, 64)\n",
    "        self.fc2 = nn.Linear(64, 32)\n",
    "        self.fc3 = nn.Linear(32, 1)\n",
    "    \n",
    "    def forward(self, x):\n",
    "        x = torch.relu(self.fc1(x))\n",
    "        x = torch.relu(self.fc2(x))\n",
    "        x = torch.sigmoid(self.fc3(x))\n",
    "        return x"
   ]
  },
  {
   "cell_type": "code",
   "execution_count": 32,
   "metadata": {},
   "outputs": [],
   "source": [
    "# Train the neural network\n",
    "input_dim = X_train.shape[1]\n",
    "model = SimpleNN(input_dim)\n",
    "criterion = nn.BCELoss()\n",
    "optimizer = optim.Adam(model.parameters(), lr=0.01)\n",
    "\n",
    "X_train_tensor = torch.FloatTensor(X_train)\n",
    "y_train_tensor = torch.FloatTensor(y_train).unsqueeze(1)\n",
    "\n",
    "start_time_nn = time.time()\n",
    "\n",
    "n_epochs = 50\n",
    "for epoch in range(n_epochs):\n",
    "    model.train()\n",
    "    optimizer.zero_grad()\n",
    "    outputs = model(X_train_tensor)\n",
    "    loss = criterion(outputs, y_train_tensor)\n",
    "    loss.backward()\n",
    "    optimizer.step()\n",
    "\n",
    "end_time_nn = time.time()"
   ]
  },
  {
   "cell_type": "code",
   "execution_count": 33,
   "metadata": {},
   "outputs": [],
   "source": [
    "# Select features based on the weights of the first layer\n",
    "weights = model.fc1.weight.data.abs().sum(dim=0)\n",
    "selected_features_nn = weights.topk(len(selected_features_td)).indices.numpy()"
   ]
  },
  {
   "cell_type": "code",
   "execution_count": 34,
   "metadata": {},
   "outputs": [
    {
     "name": "stdout",
     "output_type": "stream",
     "text": [
      "Neural Network - Training Accuracy: 0.9538461538461538\n",
      "Neural Network - Test Accuracy: 0.9391304347826086\n",
      "Neural Network - Running Time: 0.11250686645507812 seconds\n"
     ]
    }
   ],
   "source": [
    "# Evaluate Neural Network-based Feature Selection\n",
    "X_train_nn = X_train[:, selected_features_nn]\n",
    "scores_train_nn = cross_val_score(env.classifier, X_train_nn, y_train, cv=5)\n",
    "accuracy_train_nn = scores_train_nn.mean()\n",
    "\n",
    "X_test_nn = X_test[:, selected_features_nn]\n",
    "scores_test_nn = cross_val_score(env.classifier, X_test_nn, y_test, cv=5)\n",
    "accuracy_test_nn = scores_test_nn.mean()\n",
    "\n",
    "print(f\"Neural Network - Training Accuracy: {accuracy_train_nn}\")\n",
    "print(f\"Neural Network - Test Accuracy: {accuracy_test_nn}\")\n",
    "print(f\"Neural Network - Running Time: {end_time_nn - start_time_nn} seconds\")"
   ]
  },
  {
   "cell_type": "markdown",
   "metadata": {},
   "source": [
    "## Compare Results"
   ]
  },
  {
   "cell_type": "code",
   "execution_count": 35,
   "metadata": {},
   "outputs": [
    {
     "name": "stdout",
     "output_type": "stream",
     "text": [
      "Comparison of Methods:\n",
      "TD-learning - Training Accuracy: 0.9626373626373625, Test Accuracy: 0.9739130434782609, Running Time: 5.696887254714966 seconds\n",
      "Forward Selection - Training Accuracy: 0.9802197802197803, Test Accuracy: 0.9739130434782609, Running Time: 9.96624493598938 seconds\n",
      "Backward Selection - Training Accuracy: 0.9846153846153847, Test Accuracy: 0.9478260869565217, Running Time: 13.678672313690186 seconds\n",
      "Neural Network - Training Accuracy: 0.9538461538461538, Test Accuracy: 0.9391304347826086, Running Time: 0.11250686645507812 seconds\n"
     ]
    }
   ],
   "source": [
    "# Compare the results\n",
    "print(\"Comparison of Methods:\")\n",
    "print(f\"TD-learning - Training Accuracy: {accuracy_train_td}, Test Accuracy: {accuracy_test_td}, Running Time: {end_time_td - start_time_td} seconds\")\n",
    "print(f\"Forward Selection - Training Accuracy: {accuracy_train_forward}, Test Accuracy: {accuracy_test_forward}, Running Time: {end_time_forward - start_time_forward} seconds\")\n",
    "print(f\"Backward Selection - Training Accuracy: {accuracy_train_backward}, Test Accuracy: {accuracy_test_backward}, Running Time: {end_time_backward - start_time_backward} seconds\")\n",
    "print(f\"Neural Network - Training Accuracy: {accuracy_train_nn}, Test Accuracy: {accuracy_test_nn}, Running Time: {end_time_nn - start_time_nn} seconds\")"
   ]
  }
 ],
 "metadata": {
  "kernelspec": {
   "display_name": "base",
   "language": "python",
   "name": "python3"
  },
  "language_info": {
   "codemirror_mode": {
    "name": "ipython",
    "version": 3
   },
   "file_extension": ".py",
   "mimetype": "text/x-python",
   "name": "python",
   "nbconvert_exporter": "python",
   "pygments_lexer": "ipython3",
   "version": "3.12.7"
  }
 },
 "nbformat": 4,
 "nbformat_minor": 2
}
