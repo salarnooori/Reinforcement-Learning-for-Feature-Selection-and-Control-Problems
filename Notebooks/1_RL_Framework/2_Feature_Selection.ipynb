{
   "cells": [
      {
         "cell_type": "code",
         "execution_count": 2,
         "id": "import-libraries",
         "metadata": {},
         "outputs": [],
         "source": [
            "import numpy as np\n",
            "import pandas as pd\n",
            "from sklearn.svm import SVC\n",
            "from sklearn.model_selection import cross_val_score\n",
            "from sklearn.datasets import load_iris\n",
            "from sklearn.preprocessing import StandardScaler\n",
            "from sklearn.pipeline import make_pipeline\n",
            "import random"
         ]
      },
      {
         "cell_type": "code",
         "execution_count": 8,
         "id": "define-class",
         "metadata": {},
         "outputs": [],
         "source": [
            "class FeatureSelectionEnv:\n",
            "    def __init__(self, X, y):\n",
            "        self.X = X\n",
            "        self.y = y\n",
            "        self.n_features = X.shape[1]\n",
            "        self.state = [0] * self.n_features  # Start with no features selected\n",
            "        self.selected_features = []\n",
            "        self.classifier = make_pipeline(StandardScaler(), SVC(kernel='rbf'))\n",
            "    \n",
            "    def reset(self):\n",
            "        self.state = [0] * self.n_features\n",
            "        self.selected_features = []\n",
            "        return self.state\n",
            "    \n",
            "    def step(self, action):\n",
            "        if action < 0 or action >= self.n_features:\n",
            "            raise ValueError(\"Invalid action\")\n",
            "        \n",
            "        self.state[action] = 1 - self.state[action]  # Toggle feature selection\n",
            "        self.selected_features = [i for i, val in enumerate(self.state) if val == 1]\n",
            "        \n",
            "        if len(self.selected_features) == 0:\n",
            "            reward = 0\n",
            "        else:\n",
            "            X_selected = self.X[:, self.selected_features]\n",
            "            scores = cross_val_score(self.classifier, X_selected, self.y, cv=5)\n",
            "            reward = scores.mean()\n",
            "        \n",
            "        done = len(self.selected_features) == self.n_features\n",
            "        return self.state, reward, done\n",
            "    \n",
            "    def show(self):\n",
            "        print(f\"Selected features: {self.selected_features}\")"
         ]
      },
      {
         "cell_type": "code",
         "execution_count": 9,
         "id": "load-dataset",
         "metadata": {},
         "outputs": [],
         "source": [
            "# Load dataset\n",
            "data = load_iris()\n",
            "X, y = data.data, data.target"
         ]
      },
      {
         "cell_type": "code",
         "execution_count": 10,
         "id": "429abf22",
         "metadata": {},
         "outputs": [
            {
               "data": {
                  "text/html": [
                     "<div>\n",
                     "<style scoped>\n",
                     "    .dataframe tbody tr th:only-of-type {\n",
                     "        vertical-align: middle;\n",
                     "    }\n",
                     "\n",
                     "    .dataframe tbody tr th {\n",
                     "        vertical-align: top;\n",
                     "    }\n",
                     "\n",
                     "    .dataframe thead th {\n",
                     "        text-align: right;\n",
                     "    }\n",
                     "</style>\n",
                     "<table border=\"1\" class=\"dataframe\">\n",
                     "  <thead>\n",
                     "    <tr style=\"text-align: right;\">\n",
                     "      <th></th>\n",
                     "      <th>sepal length (cm)</th>\n",
                     "      <th>sepal width (cm)</th>\n",
                     "      <th>petal length (cm)</th>\n",
                     "      <th>petal width (cm)</th>\n",
                     "      <th>target</th>\n",
                     "    </tr>\n",
                     "  </thead>\n",
                     "  <tbody>\n",
                     "    <tr>\n",
                     "      <th>13</th>\n",
                     "      <td>4.3</td>\n",
                     "      <td>3.0</td>\n",
                     "      <td>1.1</td>\n",
                     "      <td>0.1</td>\n",
                     "      <td>0</td>\n",
                     "    </tr>\n",
                     "    <tr>\n",
                     "      <th>14</th>\n",
                     "      <td>5.8</td>\n",
                     "      <td>4.0</td>\n",
                     "      <td>1.2</td>\n",
                     "      <td>0.2</td>\n",
                     "      <td>0</td>\n",
                     "    </tr>\n",
                     "    <tr>\n",
                     "      <th>92</th>\n",
                     "      <td>5.8</td>\n",
                     "      <td>2.6</td>\n",
                     "      <td>4.0</td>\n",
                     "      <td>1.2</td>\n",
                     "      <td>1</td>\n",
                     "    </tr>\n",
                     "    <tr>\n",
                     "      <th>27</th>\n",
                     "      <td>5.2</td>\n",
                     "      <td>3.5</td>\n",
                     "      <td>1.5</td>\n",
                     "      <td>0.2</td>\n",
                     "      <td>0</td>\n",
                     "    </tr>\n",
                     "    <tr>\n",
                     "      <th>146</th>\n",
                     "      <td>6.3</td>\n",
                     "      <td>2.5</td>\n",
                     "      <td>5.0</td>\n",
                     "      <td>1.9</td>\n",
                     "      <td>2</td>\n",
                     "    </tr>\n",
                     "  </tbody>\n",
                     "</table>\n",
                     "</div>"
                  ],
                  "text/plain": [
                     "     sepal length (cm)  sepal width (cm)  petal length (cm)  petal width (cm)  \\\n",
                     "13                 4.3               3.0                1.1               0.1   \n",
                     "14                 5.8               4.0                1.2               0.2   \n",
                     "92                 5.8               2.6                4.0               1.2   \n",
                     "27                 5.2               3.5                1.5               0.2   \n",
                     "146                6.3               2.5                5.0               1.9   \n",
                     "\n",
                     "     target  \n",
                     "13        0  \n",
                     "14        0  \n",
                     "92        1  \n",
                     "27        0  \n",
                     "146       2  "
                  ]
               },
               "execution_count": 10,
               "metadata": {},
               "output_type": "execute_result"
            }
         ],
         "source": [
            "# Display sample of iris dataset\n",
            "df_iris = pd.DataFrame(X, columns=data.feature_names)\n",
            "df_iris['target'] = y\n",
            "df_iris.sample(5)"
         ]
      },
      {
         "cell_type": "code",
         "execution_count": 11,
         "id": "initialize-environment",
         "metadata": {},
         "outputs": [],
         "source": [
            "# Initialize environment\n",
            "env = FeatureSelectionEnv(X, y)"
         ]
      },
      {
         "cell_type": "code",
         "execution_count": 13,
         "id": "example-usage",
         "metadata": {},
         "outputs": [
            {
               "name": "stdout",
               "output_type": "stream",
               "text": [
                  "Selected features: [2]\n",
                  "Reward: 0.9533333333333334\n",
                  "Selected features: [1, 2]\n",
                  "Reward: 0.9400000000000001\n",
                  "Selected features: [0, 1, 2]\n",
                  "Reward: 0.9066666666666668\n",
                  "Selected features: [0, 1]\n",
                  "Reward: 0.8066666666666666\n",
                  "Selected features: [0, 1, 3]\n",
                  "Reward: 0.96\n",
                  "Selected features: [1, 3]\n",
                  "Reward: 0.9533333333333334\n",
                  "Selected features: [1, 2, 3]\n",
                  "Reward: 0.9666666666666666\n",
                  "Selected features: [0, 1, 2, 3]\n",
                  "Reward: 0.9666666666666666\n"
               ]
            }
         ],
         "source": [
            "# Example usage\n",
            "state = env.reset()\n",
            "done = False\n",
            "while not done:\n",
            "    action = random.randint(0, env.n_features - 1)\n",
            "    state, reward, done = env.step(action)\n",
            "    env.show()\n",
            "    print(f\"Reward: {reward}\")"
         ]
      },
      {
         "cell_type": "code",
         "execution_count": null,
         "id": "d19efa5d",
         "metadata": {},
         "outputs": [],
         "source": []
      }
   ],
   "metadata": {
      "kernelspec": {
         "display_name": "Python 3",
         "language": "python",
         "name": "python3"
      },
      "language_info": {
         "codemirror_mode": {
            "name": "ipython",
            "version": 3
         },
         "file_extension": ".py",
         "mimetype": "text/x-python",
         "name": "python",
         "nbconvert_exporter": "python",
         "pygments_lexer": "ipython3",
         "version": "3.13.1"
      }
   },
   "nbformat": 4,
   "nbformat_minor": 5
}
